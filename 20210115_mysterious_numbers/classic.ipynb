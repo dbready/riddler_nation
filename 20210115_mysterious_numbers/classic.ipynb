{
 "cells": [
  {
   "cell_type": "code",
   "execution_count": 1,
   "metadata": {},
   "outputs": [],
   "source": [
    "import functools\n",
    "import operator\n",
    "\n",
    "import z3"
   ]
  },
  {
   "cell_type": "code",
   "execution_count": 2,
   "metadata": {},
   "outputs": [],
   "source": [
    "ROW_PRODS = [294, 216, 135, 98, 112, 84, 245, 40]\n",
    "COL_PRODS = [8_890_560, 156_800, 55_566]"
   ]
  },
  {
   "cell_type": "code",
   "execution_count": 3,
   "metadata": {},
   "outputs": [],
   "source": [
    "solver = z3.Solver()"
   ]
  },
  {
   "cell_type": "code",
   "execution_count": 4,
   "metadata": {},
   "outputs": [],
   "source": [
    "matrix = []\n",
    "for i in range(len(ROW_PRODS)):\n",
    "    for j in range(len(COL_PRODS)):\n",
    "        cell = z3.Int(f\"{i}_{j}\")\n",
    "        solver.add(cell >= 0)\n",
    "        solver.add(cell <= 9)\n",
    "        if j == 0:\n",
    "            matrix.append([])\n",
    "        matrix[i].append(cell)"
   ]
  },
  {
   "cell_type": "code",
   "execution_count": 5,
   "metadata": {},
   "outputs": [],
   "source": [
    "# no numpy slicing :(\n",
    "\n",
    "# set the row constraints to equal the horizontal product\n",
    "for row_i, row_prod in enumerate(ROW_PRODS):\n",
    "    cur_row = []\n",
    "    for col_j, col_prod in enumerate(COL_PRODS):\n",
    "        cur_row.append(matrix[row_i][col_j])\n",
    "    solver.add(z3.Product(cur_row) == row_prod)"
   ]
  },
  {
   "cell_type": "code",
   "execution_count": 6,
   "metadata": {},
   "outputs": [],
   "source": [
    "# # set the column constraints to equal vertical product\n",
    "for col_j, col_prod in enumerate(COL_PRODS):\n",
    "    cur_col = []\n",
    "    for row_i, row_prod in enumerate(ROW_PRODS):\n",
    "        cur_col.append(matrix[row_i][col_j])\n",
    "    solver.add(z3.Product(cur_col) == col_prod)"
   ]
  },
  {
   "cell_type": "code",
   "execution_count": 7,
   "metadata": {},
   "outputs": [
    {
     "name": "stdout",
     "output_type": "stream",
     "text": [
      "CPU times: user 5.07 s, sys: 32.2 ms, total: 5.1 s\n",
      "Wall time: 5.1 s\n"
     ]
    },
    {
     "data": {
      "text/html": [
       "<b>sat</b>"
      ],
      "text/plain": [
       "sat"
      ]
     },
     "execution_count": 7,
     "metadata": {},
     "output_type": "execute_result"
    }
   ],
   "source": [
    "%%time\n",
    "solver.check()"
   ]
  },
  {
   "cell_type": "code",
   "execution_count": 8,
   "metadata": {},
   "outputs": [],
   "source": [
    "model = solver.model()"
   ]
  },
  {
   "cell_type": "code",
   "execution_count": 9,
   "metadata": {},
   "outputs": [
    {
     "name": "stdout",
     "output_type": "stream",
     "text": [
      "7-7-6\n",
      "\t294 True 294\n",
      "9-8-3\n",
      "\t216 True 216\n",
      "9-5-3\n",
      "\t135 True 135\n",
      "7-2-7\n",
      "\t98 True 98\n",
      "8-2-7\n",
      "\t112 True 112\n",
      "7-4-3\n",
      "\t84 True 84\n",
      "5-7-7\n",
      "\t245 True 245\n",
      "8-5-1\n",
      "\t40 True 40\n"
     ]
    }
   ],
   "source": [
    "for i in range(len(ROW_PRODS)):\n",
    "    rows = []\n",
    "    for j in range(len(COL_PRODS)):\n",
    "        # extracting values from model as python objects\n",
    "        result = str(model[matrix[i][j]])\n",
    "        rows.append(result)\n",
    "    # too elaborate printing and manual validation\n",
    "    product = functools.reduce(operator.mul, map(int, rows))\n",
    "    print(f\"{'-'.join(rows)}\")\n",
    "    print(f\"\\t{ ROW_PRODS[i] } { ROW_PRODS[i] == product } { product }\")"
   ]
  },
  {
   "cell_type": "code",
   "execution_count": null,
   "metadata": {},
   "outputs": [],
   "source": []
  },
  {
   "cell_type": "code",
   "execution_count": null,
   "metadata": {},
   "outputs": [],
   "source": []
  }
 ],
 "metadata": {
  "kernelspec": {
   "display_name": "Python 3",
   "language": "python",
   "name": "python3"
  },
  "language_info": {
   "codemirror_mode": {
    "name": "ipython",
    "version": 3
   },
   "file_extension": ".py",
   "mimetype": "text/x-python",
   "name": "python",
   "nbconvert_exporter": "python",
   "pygments_lexer": "ipython3",
   "version": "3.8.5"
  }
 },
 "nbformat": 4,
 "nbformat_minor": 4
}
