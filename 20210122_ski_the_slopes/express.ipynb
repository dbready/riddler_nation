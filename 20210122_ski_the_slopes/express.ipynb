{
 "cells": [
  {
   "cell_type": "markdown",
   "id": "objective-embassy",
   "metadata": {},
   "source": [
    "# Riddler Express\n",
    "\n",
    "From Ernie Cohen comes a scintillating stumper of a survey:\n",
    "\n",
    "You’re reviewing some of the survey data that was randomly collected from the residents of Riddler City. As you’ll recall, the city is quite large.\n",
    "\n",
    "Ten randomly selected residents were asked how many people (including them) lived in their household. As it so happened, their answers were 1, 2, 3, 4, 5, 6, 7, 8, 9 and 10.\n",
    "\n",
    "It’s your job to use this (admittedly limited) data to estimate the average household size in Riddler City. Your co-worker suggests averaging the 10 numbers, which would give you an answer of about 5.5 people. But you’re not so sure.\n",
    "\n",
    "Would your best estimate be exactly 5.5, less than 5.5 or greater than 5.5?"
   ]
  },
  {
   "cell_type": "code",
   "execution_count": 1,
   "id": "owned-intermediate",
   "metadata": {},
   "outputs": [],
   "source": [
    "import numpy as np\n",
    "import pandas as pd"
   ]
  },
  {
   "cell_type": "code",
   "execution_count": 2,
   "id": "controversial-pressing",
   "metadata": {},
   "outputs": [
    {
     "data": {
      "text/plain": [
       "[1, 2, 3, 4, 5, 6, 7, 8, 9, 10]"
      ]
     },
     "execution_count": 2,
     "metadata": {},
     "output_type": "execute_result"
    }
   ],
   "source": [
    "HOUSE_SIZES = list(range(1, 11))\n",
    "HOUSE_SIZES"
   ]
  },
  {
   "cell_type": "code",
   "execution_count": 3,
   "id": "complete-sister",
   "metadata": {},
   "outputs": [
    {
     "data": {
      "text/plain": [
       "2520"
      ]
     },
     "execution_count": 3,
     "metadata": {},
     "output_type": "execute_result"
    }
   ],
   "source": [
    "# least common multiple of the house sizes to stick with integer population\n",
    "min_population = np.lcm.reduce(HOUSE_SIZES)\n",
    "min_population"
   ]
  },
  {
   "cell_type": "code",
   "execution_count": 4,
   "id": "surrounded-decline",
   "metadata": {},
   "outputs": [],
   "source": [
    "df = pd.DataFrame({\"household_size\":HOUSE_SIZES})"
   ]
  },
  {
   "cell_type": "code",
   "execution_count": 5,
   "id": "regional-zoning",
   "metadata": {},
   "outputs": [],
   "source": [
    "df[\"houses\"] = min_population // df.household_size"
   ]
  },
  {
   "cell_type": "code",
   "execution_count": 6,
   "id": "bored-particular",
   "metadata": {},
   "outputs": [],
   "source": [
    "df[\"population\"] = df.household_size * df.houses"
   ]
  },
  {
   "cell_type": "code",
   "execution_count": 7,
   "id": "insured-individual",
   "metadata": {},
   "outputs": [],
   "source": [
    "df[\"household_frac_population\"] = df.population / df.population.sum()"
   ]
  },
  {
   "cell_type": "code",
   "execution_count": 8,
   "id": "cultural-panama",
   "metadata": {},
   "outputs": [
    {
     "data": {
      "text/html": [
       "<div>\n",
       "<style scoped>\n",
       "    .dataframe tbody tr th:only-of-type {\n",
       "        vertical-align: middle;\n",
       "    }\n",
       "\n",
       "    .dataframe tbody tr th {\n",
       "        vertical-align: top;\n",
       "    }\n",
       "\n",
       "    .dataframe thead th {\n",
       "        text-align: right;\n",
       "    }\n",
       "</style>\n",
       "<table border=\"1\" class=\"dataframe\">\n",
       "  <thead>\n",
       "    <tr style=\"text-align: right;\">\n",
       "      <th></th>\n",
       "      <th>household_size</th>\n",
       "      <th>houses</th>\n",
       "      <th>population</th>\n",
       "      <th>household_frac_population</th>\n",
       "    </tr>\n",
       "  </thead>\n",
       "  <tbody>\n",
       "    <tr>\n",
       "      <th>0</th>\n",
       "      <td>1</td>\n",
       "      <td>2520</td>\n",
       "      <td>2520</td>\n",
       "      <td>0.1</td>\n",
       "    </tr>\n",
       "    <tr>\n",
       "      <th>1</th>\n",
       "      <td>2</td>\n",
       "      <td>1260</td>\n",
       "      <td>2520</td>\n",
       "      <td>0.1</td>\n",
       "    </tr>\n",
       "    <tr>\n",
       "      <th>2</th>\n",
       "      <td>3</td>\n",
       "      <td>840</td>\n",
       "      <td>2520</td>\n",
       "      <td>0.1</td>\n",
       "    </tr>\n",
       "    <tr>\n",
       "      <th>3</th>\n",
       "      <td>4</td>\n",
       "      <td>630</td>\n",
       "      <td>2520</td>\n",
       "      <td>0.1</td>\n",
       "    </tr>\n",
       "    <tr>\n",
       "      <th>4</th>\n",
       "      <td>5</td>\n",
       "      <td>504</td>\n",
       "      <td>2520</td>\n",
       "      <td>0.1</td>\n",
       "    </tr>\n",
       "    <tr>\n",
       "      <th>5</th>\n",
       "      <td>6</td>\n",
       "      <td>420</td>\n",
       "      <td>2520</td>\n",
       "      <td>0.1</td>\n",
       "    </tr>\n",
       "    <tr>\n",
       "      <th>6</th>\n",
       "      <td>7</td>\n",
       "      <td>360</td>\n",
       "      <td>2520</td>\n",
       "      <td>0.1</td>\n",
       "    </tr>\n",
       "    <tr>\n",
       "      <th>7</th>\n",
       "      <td>8</td>\n",
       "      <td>315</td>\n",
       "      <td>2520</td>\n",
       "      <td>0.1</td>\n",
       "    </tr>\n",
       "    <tr>\n",
       "      <th>8</th>\n",
       "      <td>9</td>\n",
       "      <td>280</td>\n",
       "      <td>2520</td>\n",
       "      <td>0.1</td>\n",
       "    </tr>\n",
       "    <tr>\n",
       "      <th>9</th>\n",
       "      <td>10</td>\n",
       "      <td>252</td>\n",
       "      <td>2520</td>\n",
       "      <td>0.1</td>\n",
       "    </tr>\n",
       "  </tbody>\n",
       "</table>\n",
       "</div>"
      ],
      "text/plain": [
       "   household_size  houses  population  household_frac_population\n",
       "0               1    2520        2520                        0.1\n",
       "1               2    1260        2520                        0.1\n",
       "2               3     840        2520                        0.1\n",
       "3               4     630        2520                        0.1\n",
       "4               5     504        2520                        0.1\n",
       "5               6     420        2520                        0.1\n",
       "6               7     360        2520                        0.1\n",
       "7               8     315        2520                        0.1\n",
       "8               9     280        2520                        0.1\n",
       "9              10     252        2520                        0.1"
      ]
     },
     "execution_count": 8,
     "metadata": {},
     "output_type": "execute_result"
    }
   ],
   "source": [
    "df"
   ]
  },
  {
   "cell_type": "markdown",
   "id": "proud-group",
   "metadata": {},
   "source": [
    "A random sampling of the town population would now make one equally likely to draw a person from any of the available household sizes. However, there are more smaller households to swing the numbers."
   ]
  },
  {
   "cell_type": "code",
   "execution_count": 9,
   "id": "wireless-short",
   "metadata": {},
   "outputs": [
    {
     "data": {
      "text/plain": [
       "3.414171521474055"
      ]
     },
     "execution_count": 9,
     "metadata": {},
     "output_type": "execute_result"
    }
   ],
   "source": [
    "average_household_size = np.average(df.household_size, weights=df.houses)\n",
    "average_household_size"
   ]
  },
  {
   "cell_type": "markdown",
   "id": "disciplinary-lexington",
   "metadata": {},
   "source": [
    "Which is less than the suggested 5.5"
   ]
  },
  {
   "cell_type": "code",
   "execution_count": null,
   "id": "finished-syntax",
   "metadata": {},
   "outputs": [],
   "source": []
  }
 ],
 "metadata": {
  "kernelspec": {
   "display_name": "Python 3",
   "language": "python",
   "name": "python3"
  },
  "language_info": {
   "codemirror_mode": {
    "name": "ipython",
    "version": 3
   },
   "file_extension": ".py",
   "mimetype": "text/x-python",
   "name": "python",
   "nbconvert_exporter": "python",
   "pygments_lexer": "ipython3",
   "version": "3.8.5"
  }
 },
 "nbformat": 4,
 "nbformat_minor": 5
}
